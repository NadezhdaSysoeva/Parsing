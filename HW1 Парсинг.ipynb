{
 "cells": [
  {
   "cell_type": "markdown",
   "id": "a0eb46c8",
   "metadata": {},
   "source": [
    "### Урок 1. Основы клиент-серверного взаимодействия. Работа с API"
   ]
  },
  {
   "cell_type": "markdown",
   "id": "3a306177",
   "metadata": {},
   "source": [
    "### 1. Посмотреть документацию к API GitHub, разобраться как вывести список репозиториев для конкретного пользователя, сохранить JSON-вывод в файле *.json."
   ]
  },
  {
   "cell_type": "code",
   "execution_count": 1,
   "id": "6c6c93ff",
   "metadata": {},
   "outputs": [],
   "source": [
    "import requests"
   ]
  },
  {
   "cell_type": "code",
   "execution_count": 2,
   "id": "9eab1187",
   "metadata": {},
   "outputs": [],
   "source": [
    "import json"
   ]
  },
  {
   "cell_type": "code",
   "execution_count": 4,
   "id": "7ba7baf5",
   "metadata": {},
   "outputs": [],
   "source": [
    "params = {'q': 'name', 'id': '103629795'}"
   ]
  },
  {
   "cell_type": "code",
   "execution_count": 5,
   "id": "f0cce8c5",
   "metadata": {},
   "outputs": [],
   "source": [
    "url = 'https://api.github.com'"
   ]
  },
  {
   "cell_type": "code",
   "execution_count": 6,
   "id": "301ab77e",
   "metadata": {},
   "outputs": [],
   "source": [
    "user = 'NadezhdaSysoeva'"
   ]
  },
  {
   "cell_type": "code",
   "execution_count": 7,
   "id": "8cbb75c5",
   "metadata": {},
   "outputs": [],
   "source": [
    "responce = requests.get(f'{url}/users/{user}/repos')"
   ]
  },
  {
   "cell_type": "code",
   "execution_count": 8,
   "id": "ec3701de",
   "metadata": {},
   "outputs": [],
   "source": [
    "with open('data.json', 'w') as f:\n",
    "    json.dump(responce.json(), f)"
   ]
  },
  {
   "cell_type": "code",
   "execution_count": 10,
   "id": "1c467a6a",
   "metadata": {},
   "outputs": [
    {
     "name": "stdout",
     "output_type": "stream",
     "text": [
      "NadezhdaSysoeva/----Python\n",
      "NadezhdaSysoeva/NadezhdaSysoeva\n",
      "NadezhdaSysoeva/Numpy\n",
      "NadezhdaSysoeva/Numpy-Pandas\n",
      "NadezhdaSysoeva/NumpyPandas\n",
      "NadezhdaSysoeva/Python\n",
      "NadezhdaSysoeva/repo-github\n",
      "NadezhdaSysoeva/repo-gui\n"
     ]
    }
   ],
   "source": [
    "for i in responce.json():\n",
    "    print(i['full_name'])"
   ]
  },
  {
   "cell_type": "markdown",
   "id": "09e04705",
   "metadata": {},
   "source": [
    "### 2. Изучить список открытых API (https://www.programmableweb.com/category/all/apis). Найти среди них любое, требующее авторизацию (любого типа). Выполнить запросы к нему, пройдя авторизацию. Ответ сервера записать в файл."
   ]
  },
  {
   "cell_type": "markdown",
   "id": "cb1e52e6",
   "metadata": {},
   "source": [
    "Если нет желания заморачиваться с поиском, возьмите API вконтакте (https://vk.com/dev/first_guide). Сделайте запрос, чтобы получить список всех сообществ на которые вы подписаны."
   ]
  },
  {
   "cell_type": "code",
   "execution_count": 2,
   "id": "f9102bbc",
   "metadata": {},
   "outputs": [],
   "source": [
    "import requests"
   ]
  },
  {
   "cell_type": "code",
   "execution_count": 16,
   "id": "09673fb0",
   "metadata": {},
   "outputs": [],
   "source": [
    "import json"
   ]
  },
  {
   "cell_type": "code",
   "execution_count": 17,
   "id": "1e4187f7",
   "metadata": {},
   "outputs": [],
   "source": [
    "app_id = 17809700"
   ]
  },
  {
   "cell_type": "code",
   "execution_count": 18,
   "id": "8ed6b7b7",
   "metadata": {},
   "outputs": [],
   "source": [
    "vk_version = 5.131"
   ]
  },
  {
   "cell_type": "code",
   "execution_count": 20,
   "id": "8a30b922",
   "metadata": {},
   "outputs": [],
   "source": [
    "access_token = 'vk1.a.-ciZFGaufIADXAABiqtwgg7gJOFiW5CXsSz_7bOGDlS7nv0DU56CQyZx2w9Im8wLTtwfzj0boyaO7f4eAa4-fl6T4uEd9vvTTufEWt6LT_LHAPCdGkthqrkioltdOnUKyt9YxDo46B74BbWebrCPzz60cVpzglGTQcwvWu6O-YhrYdON9NfC5LRkEoYudBH6fDsrkzTm9qz-PCX8Z73Y0g'\n"
   ]
  },
  {
   "cell_type": "code",
   "execution_count": 21,
   "id": "3a255f44",
   "metadata": {},
   "outputs": [],
   "source": [
    "response = requests.get(f'https://api.vk.com/method/groups.get?extended=1&access_token={access_token}&v={vk_version}')"
   ]
  },
  {
   "cell_type": "code",
   "execution_count": 22,
   "id": "39841f1c",
   "metadata": {},
   "outputs": [],
   "source": [
    "response_json = response.json()"
   ]
  },
  {
   "cell_type": "code",
   "execution_count": 23,
   "id": "02e357df",
   "metadata": {},
   "outputs": [],
   "source": [
    "with open('task02_response.json', 'w') as file:\n",
    "    json.dump(response_json, file)"
   ]
  },
  {
   "cell_type": "code",
   "execution_count": 24,
   "id": "e610cac2",
   "metadata": {},
   "outputs": [
    {
     "name": "stdout",
     "output_type": "stream",
     "text": [
      "\n",
      "Список сообществ, на которые вы подписаны\n",
      "Салон красоты\n",
      "Smart - умный журнал!\n",
      "90-60-90 | Спортивные девушки\n",
      "Женские шту́чки\n",
      "МОЁ! Online. Все новости Воронежа\n",
      "Секреты женской красоты\n",
      "Храм в честь иконы Божией Матери \"Всецарица\".\n",
      "Maria Chaadaeva\n",
      "Секреты Жизни  | Советы\n",
      "Новости RT на русском\n",
      "Фудблог Андрея Рысева\n",
      "ИМПЕРИЯ КИНО | АВАТАР 2 | НОВИНКИ 2022\n",
      "M O D A\n",
      "Фитнес подруга\n",
      "Парикмахер-колорист Воронеж Татьяна Баландина\n",
      "Золотые руки | Строительство и ремонт\n",
      "Клиника косметологии Анны Сокур  | Воронеж\n",
      "Кулинарное искусство\n",
      "INSIDE | Чир Спорт | Танцы | Воронеж\n",
      "МБОУ «СОШ № 106» Школа г.Воронеж\n",
      "LOOKBOOK\n",
      "Записки шеф-повара\n",
      "0% жирности\n",
      "GAMMA MAMA - профессиональная косметика\n",
      "ДЕЛАЙ ТЕЛО\n",
      "Fitness Life\n",
      "Объявления Воронеж\n",
      "Мода\n",
      "Брендовые вещи из США–usa_shop_top\n",
      "ИДЕИ\n",
      "Олимпийские игры\n",
      "Прически | Красота\n",
      "МАМА™\n",
      "Martichelli\n",
      "Спортивный клуб ОЛИМП Воронеж\n",
      "Ищу модель Воронеж\n",
      "Женский AliExpress\n",
      "Квартирный Вопрос\n",
      "Дизайн & Декор\n",
      "Диана Сергеева | Блог\n",
      "ИСПАНСКАЯ ОБУВЬ TACOS\n",
      "Ведущая Аня Артёмова. Воронеж\n",
      "Идеальный ремонт\n",
      "Cameo. Медицинская одежда\n",
      "Интернет-магазин женской обуви. Воронеж\n",
      "Marymary_style\n",
      "Just Fitness | Фитнес Блог\n",
      "Подслушано врачи Воронежа\n",
      "Леди Шарм ОДЕЖДА ОБУВЬ СУМКИ ЧАСЫ ОЧКИ УКРАШЕНИЯ\n",
      "Новости Воронежа | РИА «Воронеж»\n",
      "Интерьер и декор\n",
      "Необычный гороскоп\n",
      "Just Cook\n",
      "Мир Дизайна\n",
      "Женский Дневник\n",
      "Платья Павел Рябинин / Дизайнерская одежда\n",
      "Креатив +\n",
      "Детский AliExpress\n",
      "Смешные СМС Приколы - Крутые Идиотские Переписки\n",
      "Красота и здоровье\n",
      "Творим с любовью. Хвастушки и идеи.\n",
      "Знаменитости: Изнанка Шоу-Бизнеса\n",
      "Next.com.ru\n",
      "Одежда\n",
      "Happy Baby\n",
      "MiaMolly| Одежда для фитнеса |Спортивная одежда\n",
      "Дизайн интерьера и декор дома. MyHome.ru\n",
      "AZBUKA-SKIDOK.RU - СУМКИ  ПАРФЮМ, КОСМЕТИКА\n",
      "*SUPERDETKИ* HUPPA ,РЕЙМА,LASSIE, КИВАТ (KIVAT)*\n",
      "Маникюр Club / Дизайн ногтей\n",
      "Легкая Атлетика - Athletics Russia\n",
      "= Счастливая МАМА =Хуппа,LEN@NE,Рейма,Лесси\n",
      "*УтепленОК* Huppa Lenne Хуппа Ленне\n",
      "Ekportal: инвестиции, финансы и экономика!\n",
      "Автомир Богемия - официальный дилер SKODA\n",
      "Детская перевозка в поезд\n",
      "Любители спорта\n",
      "Ткани Белошвейка (Москва).\n",
      "Дом Моды\n",
      "Cоревнования бикини. Фитнес- бикини\n",
      "[ФэшнRoom] Обувь, аксессуары, изделия из Питона\n",
      "\"СТИЛЬНАЯ ШТУЧКА\" интернет магазин для модных и\n",
      "Like Me.  Модная женская одежда.\n",
      "Фиолетовый жираф Воронеж\n",
      "Комбинезоны для детей. Мембрана, Софтшелл.\n",
      "Счастливый Слон | Воронеж\n",
      "Stylish shop\n",
      "Совместные Покупки Воронеж\n",
      "AxiDesignStudio.PRO\n",
      "Танцевальная студия ИНФИНИТИ Воронеж\n",
      "Свадебный, Семейный, Детский фотограф. Воронеж.\n",
      "Шопоголики. СП * Воронеж # совместные покупки #\n",
      "Время Воронежа\n",
      "Детская и взрослая обувь\n",
      "Сеть соляных пещер в Воронеже. Соляная пещера\n",
      "Шугаринг, Ресницы | Воронеж | Обучение\n",
      "Прически / Стрижки- 2018\n",
      "Чемоданы - Зеленоград бесплатная доставка!!!!!!!\n",
      "Управляющая организация Троицкий\n",
      "NL без границ\n",
      "ДЖИЛЕКС\n",
      "Монтессори-Школа \"Алиса\"\n",
      "Эконом ВГУ\n",
      "Александр Сторублёв\n",
      "Туристическая компания GEO Travel\n",
      "ШОППИНГ В  США\n",
      "Свадебный Фотограф Анна Путилина\n",
      "Детский сад \"Светлячок\" Воронеж\n",
      "Фитнес клуб и салон красоты | Belfort | Воронеж\n",
      "Ортопедическая обувь Сурсил Орто, антиварусная\n",
      "ЖК \"Русский Авангард\" - Воронеж\n",
      "Океан Цветов Воронеж\n",
      "Детство в Воронеже\n",
      "Беговой Воронеж | RUNNING  VRN\n",
      "ЖК \"Русский Авангард\" - Воронеж\n",
      "🄽🄾 🄽🄰🄼🄴 🅂🄷🄾🄿  МАГАЗИН ОНЛАЙН\n",
      "Checkin in' 36\n",
      "расческа выпрямитель Fast Hair Straightener\n",
      "\"ВЗГЛЯД ИЗНУТРИ\" Профориентационные экскусии\n",
      "===Наша Любимая Школа №8===\n",
      "Детская одежда\n",
      "ТОРТЫ НА ЗАКАЗ \"Нечаянная сладость\" в Воронеже\n",
      "Газ на авто в Воронеже. Установка и ремонт ГБО\n",
      "Домашняя кондитерская \"Ванильные облака\" (торты)\n",
      "СЛАДКАЯ ЖИЗНЬ. Домашние торты на заказ.\n",
      "Макияж\n",
      "Spidi\n",
      "Cовместные закупки из Америки\n",
      "TOP PEOPLE ♔ САМЫЕ КРАСИВЫЕ ЛЮДИ ВОРОНЕЖА\n",
      "Пряничные Домики. Воронеж\n",
      "Спектакль \"Ветер в тополях\". Театр \"Кот\"\n",
      "BARBARIS_flowers_shop\n",
      "ШУГАРИНГ ВОРОНЕЖ | Студия шугаринга Карамель\n",
      "Дешевые визитки. Воронеж\n",
      "СТРАНА ЧУДЕС ( детская одежда от 1 до 10 лет)\n",
      "Походи на скелі \"Смерековий Камінь\"\n",
      "ORIOLE BEAUTY КОСМЕТИКА ВОРОНЕЖ\n",
      "Мебель MILLOR\n",
      "АКТЕРСКОЕ и ОРАТОРСКОЕ мастерство. МАСТЕР-КЛАСС\n",
      "Olya_ekonom | Скидки , акции Вб /озон\n",
      "|RUNNERS||Воронеж|\n",
      "Шоу мыльных пузырей \"Дэниса Коперфильда\" Воронеж\n",
      "\" Booost up\" и Split End (восстановление концов)\n",
      "г.Воронеже\n",
      "Брендовая одежда для детей по демократичным цена\n",
      "Лушниковы\n",
      "Эксклюзивные торты от CATrin\n",
      "Клуб Деловых Игр \"ДЕНЕЖНЫЙ ПОТОК\"\n",
      "Мастер ногтевого сервиса. Воронеж\n",
      "Воронеж, Коминтерновский\n",
      "Elena Goleva. Фотограф в Воронеже\n",
      "сессия на экономе: NO STRESS\n",
      "VenGer\n",
      "Друзья Михалыча!\n",
      "hhhhhhhiiiiiiii\n",
      "Наращивание ногтей Гель-лак Маникюр в Воронеже\n",
      "Будки для Собак, Детские Домики \"Мир под Крышей\"\n",
      "Компания\n",
      "1 \"Б\" гимназия им. И.С.Никитина\n",
      "InfinityDS Основы хореографии Ольга Иванова\n",
      "Manfree модная одежда по доступным ценам\n",
      "Наш \"Г\" класс(1995-2003)школа №8 г.Воронежа\n",
      "Встреча выпускников\n",
      "Слет тех кто прошел через Саныча\n"
     ]
    }
   ],
   "source": [
    "print('\\nСписок сообществ, на которые вы подписаны')\n",
    "for group in response_json['response']['items']:\n",
    "    print(f\"{group['name']}\")"
   ]
  },
  {
   "cell_type": "code",
   "execution_count": null,
   "id": "eb04289f",
   "metadata": {},
   "outputs": [],
   "source": []
  }
 ],
 "metadata": {
  "kernelspec": {
   "display_name": "Python 3 (ipykernel)",
   "language": "python",
   "name": "python3"
  },
  "language_info": {
   "codemirror_mode": {
    "name": "ipython",
    "version": 3
   },
   "file_extension": ".py",
   "mimetype": "text/x-python",
   "name": "python",
   "nbconvert_exporter": "python",
   "pygments_lexer": "ipython3",
   "version": "3.9.13"
  }
 },
 "nbformat": 4,
 "nbformat_minor": 5
}
