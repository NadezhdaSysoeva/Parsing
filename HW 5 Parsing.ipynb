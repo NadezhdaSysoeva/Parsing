{
 "cells": [
  {
   "cell_type": "markdown",
   "id": "618a34a0",
   "metadata": {},
   "source": [
    "### Урок 5. Парсинг данных. Scrapy. Начало"
   ]
  },
  {
   "cell_type": "markdown",
   "id": "e06b9784",
   "metadata": {},
   "source": [
    "### ###Вариант I\n",
    "Написать программу, которая собирает входящие письма из своего или тестового почтового ящика и сложить данные о письмах в базу данных (от кого, дата отправки, тема письма, текст письма полный)\n",
    "Для этого нужно создать свой тестовый почтовый ящик и переслать на него минимум любых рекламных 50 сообщений."
   ]
  },
  {
   "cell_type": "markdown",
   "id": "ccccc4da",
   "metadata": {},
   "source": [
    "Логин тестового почтового ящика: lnv87test@mail.ru\n",
    "Пароль тестового почтового ящика: zIpun7-3Siderat"
   ]
  },
  {
   "cell_type": "code",
   "execution_count": null,
   "id": "79856a8e",
   "metadata": {},
   "outputs": [],
   "source": [
    "from selenium import webdriver  # https://chromedriver.chromium.org/downloads\n",
    "from selenium.webdriver.chrome.options import Options\n",
    "from selenium.webdriver.support.ui import WebDriverWait\n",
    "from selenium.webdriver.support import expected_conditions as EC\n",
    "from selenium.webdriver.common.by import By\n",
    "from selenium.webdriver.common.action_chains import ActionChains\n",
    "from pymongo import MongoClient\n",
    "import time\n",
    "import re\n"
   ]
  },
  {
   "cell_type": "code",
   "execution_count": null,
   "id": "8cd0beec",
   "metadata": {},
   "outputs": [],
   "source": [
    "login = \"lnv87test\"\n",
    "pwd = \"zIpun7-3Siderat\"\n",
    "host = \"https://account.mail.ru/login/\"\n"
   ]
  },
  {
   "cell_type": "code",
   "execution_count": null,
   "id": "0fe67383",
   "metadata": {},
   "outputs": [],
   "source": [
    "# Запускаем браузер\n",
    "chrome_options = Options()\n",
    "chrome_options.add_argument('start-maximized')\n",
    "driver = webdriver.Chrome(\n",
    "    executable_path='./chromedriver.exe',\n",
    "    options=chrome_options"
   ]
  },
  {
   "cell_type": "code",
   "execution_count": null,
   "id": "1388d052",
   "metadata": {},
   "outputs": [],
   "source": [
    "# Открываем страницу\n",
    "driver.get(host)"
   ]
  },
  {
   "cell_type": "code",
   "execution_count": null,
   "id": "9339cacf",
   "metadata": {},
   "outputs": [],
   "source": [
    "# Вводим логин\n",
    "login_field = WebDriverWait(driver, 30).until(\n",
    "    EC.presence_of_element_located((By.NAME,'username'))\n",
    ")\n",
    "login_field.send_keys(login)\n",
    "login_field.submit()"
   ]
  },
  {
   "cell_type": "code",
   "execution_count": null,
   "id": "8a4fb944",
   "metadata": {},
   "outputs": [],
   "source": [
    "# Вводим пароль\n",
    "password_field = WebDriverWait(driver, 30).until(\n",
    "    EC.visibility_of_element_located((By.NAME,'password'))\n",
    ")\n",
    "password_field.send_keys(pwd)\n",
    "password_field.submit()"
   ]
  },
  {
   "cell_type": "code",
   "execution_count": null,
   "id": "daed07d4",
   "metadata": {},
   "outputs": [],
   "source": [
    "# Вычисляем сколько писем в ящике\n",
    "inbox_element = WebDriverWait(driver, 30).until(\n",
    "    EC.visibility_of_element_located((By.CLASS_NAME,'nav__item_active'))\n",
    ")\n",
    "title = inbox_element.get_attribute('title')\n",
    "regex = r\"Входящие, (\\d*) \"\n",
    "count_emails = int(re.search(regex, title).group(1))\n",
    "print(f\"Всего писем: {count_emails}\")"
   ]
  },
  {
   "cell_type": "code",
   "execution_count": null,
   "id": "2ca1fdb2",
   "metadata": {},
   "outputs": [],
   "source": [
    "# Собираем список ссылок на письма\n",
    "urls_marker = WebDriverWait(driver, 30).until(\n",
    "    EC.visibility_of_element_located((By.CLASS_NAME,'js-letter-list-item'))\n",
    ")\n",
    "url_list = driver.find_elements_by_class_name('js-letter-list-item')\n",
    "url_set = set()\n",
    "\n",
    "for a in url_list:\n",
    "    url_set.add(a.get_attribute('href'))  # собираем ссылки, пока они видны на экране\n",
    "\n",
    "while len(url_set) != count_emails:\n",
    "    actions = ActionChains(driver)\n",
    "    actions.move_to_element(url_list[-1])\n",
    "    actions.perform()\n",
    "    time.sleep(1)\n",
    "    url_list = driver.find_elements_by_class_name('js-letter-list-item')\n",
    "    for a in url_list:\n",
    "        url_set.add(a.get_attribute('href'))  # собираем ссылки, пока они видны на экране\n",
    "    print(f\"Собрано URL'ов: {len(url_set)}\")\n"
   ]
  },
  {
   "cell_type": "code",
   "execution_count": null,
   "id": "1c8a7603",
   "metadata": {},
   "outputs": [],
   "source": [
    "# Открываем каждое письмо и парсим содержимое\n",
    "emails = []\n",
    "for a in url_set:\n",
    "    driver.get(a)\n",
    "    letter_author_wrapper = WebDriverWait(driver, 30).until(\n",
    "        EC.presence_of_element_located((By.CLASS_NAME, 'letter__author'))\n",
    "    )\n",
    "    email = {\n",
    "        'letter_author': letter_author_wrapper.find_element_by_class_name('letter-contact').get_attribute('title'),\n",
    "        'letter_date': letter_author_wrapper.find_element_by_class_name('letter__date').text,\n",
    "        'letter_title': driver.find_element_by_class_name('thread__subject').text,\n",
    "        'letter_body': driver.find_element_by_class_name('letter-body').text\n",
    "    }\n",
    "    emails.append(email)\n",
    "    print(f\"Обработана ссылка: {a}\")"
   ]
  },
  {
   "cell_type": "code",
   "execution_count": null,
   "id": "07b8e361",
   "metadata": {},
   "outputs": [],
   "source": [
    "# Сохраняем в БД\n",
    "client = MongoClient('127.0.0.1', 27017)\n",
    "db = client['emails']\n",
    "db.inbox.insert_many(emails)\n",
    "\n",
    "print('FINISH')"
   ]
  }
 ],
 "metadata": {
  "kernelspec": {
   "display_name": "Python 3 (ipykernel)",
   "language": "python",
   "name": "python3"
  },
  "language_info": {
   "codemirror_mode": {
    "name": "ipython",
    "version": 3
   },
   "file_extension": ".py",
   "mimetype": "text/x-python",
   "name": "python",
   "nbconvert_exporter": "python",
   "pygments_lexer": "ipython3",
   "version": "3.9.13"
  }
 },
 "nbformat": 4,
 "nbformat_minor": 5
}
