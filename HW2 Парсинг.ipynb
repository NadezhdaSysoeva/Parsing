{
 "cells": [
  {
   "cell_type": "markdown",
   "id": "d4c4c8b8",
   "metadata": {},
   "source": [
    "### Урок 2. Парсинг данных. HTML, DOM, XPath"
   ]
  },
  {
   "cell_type": "markdown",
   "id": "1c1c22c7",
   "metadata": {},
   "source": [
    "### Написать приложение и функцию, которые собирают основные новости с сайта на выбор dzen.ru, lenta.ru, mail.ru . Для парсинга использовать XPath\n",
    "Структура данных должна содержать:\n",
    "* название источника\n",
    "* наименование новости\n",
    "* ссылку на новость\n",
    "* дата публикации"
   ]
  },
  {
   "cell_type": "code",
   "execution_count": 1,
   "id": "b39dd822",
   "metadata": {},
   "outputs": [],
   "source": [
    "from pprint import pprint"
   ]
  },
  {
   "cell_type": "code",
   "execution_count": 2,
   "id": "988d6668",
   "metadata": {},
   "outputs": [],
   "source": [
    "from lxml import html"
   ]
  },
  {
   "cell_type": "code",
   "execution_count": 3,
   "id": "2e4a4526",
   "metadata": {},
   "outputs": [],
   "source": [
    "import requests"
   ]
  },
  {
   "cell_type": "code",
   "execution_count": 12,
   "id": "ab19d539",
   "metadata": {},
   "outputs": [],
   "source": [
    "url = 'https://news.mail.ru/'"
   ]
  },
  {
   "cell_type": "code",
   "execution_count": 13,
   "id": "ca0439b5",
   "metadata": {},
   "outputs": [],
   "source": [
    "headers = {'User-Agent': 'Mozilla/5.0 (Windows NT 10.0; Win64; x64) AppleWebKit/537.36 (KHTML, like Gecko) Chrome/109.0.0.0 Safari/537.36',\n",
    "             \n",
    "}\n",
    "response = requests.get(url, headers=headers)\n",
    "dom = html.fromstring(response.text)"
   ]
  },
  {
   "cell_type": "code",
   "execution_count": 32,
   "id": "8d400657",
   "metadata": {},
   "outputs": [
    {
     "data": {
      "text/plain": [
       "[<Element div at 0x24eeb8ba900>,\n",
       " <Element div at 0x24eeb8bae50>,\n",
       " <Element div at 0x24eecdcac70>,\n",
       " <Element div at 0x24eecdcae00>]"
      ]
     },
     "execution_count": 32,
     "metadata": {},
     "output_type": "execute_result"
    }
   ],
   "source": [
    "news_list = []\n",
    "news_elements = dom.xpath(\"//div[@class='newsitem newsitem_height_fixed js-ago-wrapper']\")\n",
    "news_elements"
   ]
  },
  {
   "cell_type": "code",
   "execution_count": 34,
   "id": "4d529e4a",
   "metadata": {},
   "outputs": [
    {
     "name": "stdout",
     "output_type": "stream",
     "text": [
      "Новость - ['В КНДР пообещали беспрецедентный ответ на учения США и Южной Кореи']\n",
      "Источник - ['Коммерсантъ']\n",
      "Ссылка - ['https://news.mail.ru/politics/55098117/']\n",
      "Время публикации - ['2023-02-17T09:57:55+03:00']\n",
      "Новость - ['ЦБ РФ с 1 апреля запустит пилотный проект по операциям с цифровым рублем с 13 банками']\n",
      "Источник - ['ТАСС']\n",
      "Ссылка - ['https://news.mail.ru/economics/55100425/']\n",
      "Время публикации - ['2023-02-17T11:50:49+03:00']\n",
      "Новость - ['Исследование: что происходило с температурой Земли до глобального потепления']\n",
      "Источник - ['Новости Mail.ru']\n",
      "Ссылка - ['https://pogoda.mail.ru/news/55101108/']\n",
      "Время публикации - ['2023-02-17T12:19:43+03:00']\n",
      "Новость - ['В России впервые с 13 октября 2022 года выявили более 15 тыс. заболевших ковидом за сутки']\n",
      "Источник - ['ТАСС']\n",
      "Ссылка - ['https://news.mail.ru/incident/55099929/']\n",
      "Время публикации - ['2023-02-17T12:37:36+03:00']\n"
     ]
    }
   ],
   "source": [
    "for element in news_elements:\n",
    "    herf = element.xpath(\".//span[@class='cell']/a/@href\")\n",
    "    title = element.xpath(\".//span[@class='cell']/a/span/text()\")\n",
    "    source = element.xpath(\".//div[@class='newsitem__params']/span[@class='newsitem__param']/text()\")\n",
    "    time_pub = element.xpath(\".//div[@class='newsitem__params']/span[@class='newsitem__param js-ago']/@datetime\")\n",
    "    print(f'Новость - {title}\\nИсточник - {source}\\nСсылка - {herf}\\nВремя публикации - {time_pub}')"
   ]
  },
  {
   "cell_type": "code",
   "execution_count": null,
   "id": "e33391ca",
   "metadata": {},
   "outputs": [],
   "source": []
  }
 ],
 "metadata": {
  "kernelspec": {
   "display_name": "Python 3 (ipykernel)",
   "language": "python",
   "name": "python3"
  },
  "language_info": {
   "codemirror_mode": {
    "name": "ipython",
    "version": 3
   },
   "file_extension": ".py",
   "mimetype": "text/x-python",
   "name": "python",
   "nbconvert_exporter": "python",
   "pygments_lexer": "ipython3",
   "version": "3.9.13"
  }
 },
 "nbformat": 4,
 "nbformat_minor": 5
}
