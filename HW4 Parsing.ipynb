{
 "cells": [
  {
   "cell_type": "markdown",
   "id": "a774bc23",
   "metadata": {},
   "source": [
    "### Урок 4. Система управления базами данных MongoDB в Python"
   ]
  },
  {
   "cell_type": "code",
   "execution_count": null,
   "id": "26720310",
   "metadata": {},
   "outputs": [],
   "source": [
    "from pymongo import MongoClient\n",
    "import requests\n",
    "from bs4 import BeautifulSoup as bs\n",
    "from pprint import pprint\n",
    "from pymongo import MongoClient\n",
    "from pymongo.errors import InvalidDocument as idoc"
   ]
  },
  {
   "cell_type": "code",
   "execution_count": null,
   "id": "fff8450c",
   "metadata": {},
   "outputs": [],
   "source": [
    "client = MongoClient('localhost', 27017)\n",
    "db = client.headhunter\n",
    "vacations = db.hh_vacations\n"
   ]
  },
  {
   "cell_type": "code",
   "execution_count": null,
   "id": "340ec85b",
   "metadata": {},
   "outputs": [],
   "source": [
    "headers = {'User-Agent': 'Mozilla/5.0 (Windows NT 10.0; Win64; x64) AppleWebKit/537.36 (KHTML, like Gecko) Chrome/109.0.0.0 Safari/537.36',\n",
    "             \n",
    "}\n",
    "url = 'https://hh.ru/search/vacancy'\n"
   ]
  },
  {
   "cell_type": "code",
   "execution_count": null,
   "id": "70eeffe9",
   "metadata": {},
   "outputs": [],
   "source": [
    "def get_html(url, params=''):\n",
    "    response = requests.get(url, headers=headers, params=params)\n",
    "    return response"
   ]
  },
  {
   "cell_type": "code",
   "execution_count": null,
   "id": "840d9d61",
   "metadata": {},
   "outputs": [],
   "source": [
    "def hh_content(response):\n",
    "    dom = bs(response, 'lxml')\n",
    "    items = dom.find_all('div', class_='vacancy-serp-item__layout')\n",
    "    hh_vacancy = []\n",
    "\n",
    "    for item in items:\n",
    "        hh_vacancy.append(\n",
    "            {\n",
    "                'site': 'HeadHanter', # Название сайта\n",
    "                'title': item.find('h3', class_='bloko-header-section-3').get_text(), # Название вакансии\n",
    "                'link': item.find('a', class_='serp-item__title').get('href'), # Ссылка на вакансию\n",
    "                'salary': item.find('span', class_='bloko-header-section-3'), # Зарплата\n",
    "                'organization': item.find('div', class_='vacancy-serp-item-company').get_text() # Название компании\n",
    "            }\n",
    "        )\n",
    "    for i in hh_vacancy:\n",
    "      \n",
    "        try:\n",
    "            i['salary'] = i['salary'].text\n",
    "        except:\n",
    "            i['salary'] = None\n",
    "        if i['salary']:\n",
    "            salary_list = i['salary'].split(' ')\n",
    "            if salary_list[0] == 'от':\n",
    "                i['salary_min'] = salary_list[1]\n",
    "                i['salary_max'] = None\n",
    "            elif salary_list[0] == 'до':\n",
    "                i['salary_min'] = None\n",
    "                i['salary_max'] = salary_list[1]\n",
    "            else:\n",
    "                i['salary_min'] = salary_list[0]\n",
    "                i['salary_max'] = salary_list[2]\n",
    "            i['salary_currency'] = salary_list[-1]\n",
    "        else:\n",
    "            i['salary_min'] = None\n",
    "            i['salary_max'] = None\n",
    "            i['salary_currency'] = None\n",
    "        i.pop('salary')\n",
    "    return hh_vacancy"
   ]
  },
  {
   "cell_type": "code",
   "execution_count": null,
   "id": "b8c77f68",
   "metadata": {},
   "outputs": [],
   "source": [
    "def parser_hh():\n",
    "    post = str(input('Введите название вакансии для парсинга: '))\n",
    "    pages = int(input('Количество страниц для парсинга: '))\n",
    "    html = get_html(url)\n",
    "    if html.status_code == 200:\n",
    "        vacancy = []\n",
    "        for page in range(1, pages + 1):\n",
    "            print(f'Парсим страницу {page}')\n",
    "            html = get_html(url, params={'text': post, 'page': page})\n",
    "            vacancy.extend(hh_content(html.text))\n",
    "        hh_result = pd.DataFrame(vacancy)\n",
    "    else:\n",
    "        hh_result = html.status_code\n",
    "    return hh_result"
   ]
  },
  {
   "cell_type": "code",
   "execution_count": null,
   "id": "e6459185",
   "metadata": {},
   "outputs": [],
   "source": [
    "hh_result = parser_hh()"
   ]
  },
  {
   "cell_type": "markdown",
   "id": "f19a482e",
   "metadata": {},
   "source": [
    "### 1. Развернуть у себя на компьютере/виртуальной машине/хостинге MongoDB и реализовать функцию, которая будет добавлять только новые вакансии/продукты в вашу базу."
   ]
  },
  {
   "cell_type": "code",
   "execution_count": null,
   "id": "51595c1d",
   "metadata": {},
   "outputs": [],
   "source": [
    "def insert_mongo(hh_result):\n",
    "    for vac in hh_result:\n",
    "        try:\n",
    "            vacations.update_one({'_Id': vac['_Id']}, {'$set': vac}, upsert=True)\n",
    "        except idoc:\n",
    "            print(f'Error {idoc}')\n",
    "            continue"
   ]
  },
  {
   "cell_type": "code",
   "execution_count": null,
   "id": "77de9ed7",
   "metadata": {},
   "outputs": [],
   "source": [
    "insert_mongo(hh_result)"
   ]
  },
  {
   "cell_type": "markdown",
   "id": "b21f883f",
   "metadata": {},
   "source": [
    "### 2. Написать функцию, которая производит поиск и выводит на экран вакансии с заработной платой больше введённой суммы (необходимо анализировать оба поля зарплаты). Для тех, кто выполнил задание с Росконтролем - напишите запрос для поиска продуктов с рейтингом не ниже введенного или качеством не ниже введенного (то есть цифра вводится одна, а запрос проверяет оба поля)."
   ]
  },
  {
   "cell_type": "code",
   "execution_count": null,
   "id": "3c48a3bc",
   "metadata": {},
   "outputs": [],
   "source": [
    "def search_by_salary():\n",
    "    value = int(input('Введите значение заработной платы: '))\n",
    "    res = vacations.find({'$or':\n",
    "                              [{'валюта ЗП': 'руб.',\n",
    "                                    '$or': [\n",
    "                                        {'ЗП_min': {'$gt': value}},\n",
    "                                        {'ЗП_max': {'$gt': value}},]\n",
    "                                },\n",
    "                                {'валюта ЗП': 'USD',\n",
    "                                    '$or': [\n",
    "                                        {'ЗП_min': {'$gt': value / 75}},\n",
    "                                        {'ЗП_max': {'$gt': value / 75}},]\n",
    "                                }]\n",
    "                            })\n",
    "\n",
    "    return list(res)\n",
    "\n",
    "res = search_by_salary()\n",
    "pprint(res)"
   ]
  }
 ],
 "metadata": {
  "kernelspec": {
   "display_name": "Python 3 (ipykernel)",
   "language": "python",
   "name": "python3"
  },
  "language_info": {
   "codemirror_mode": {
    "name": "ipython",
    "version": 3
   },
   "file_extension": ".py",
   "mimetype": "text/x-python",
   "name": "python",
   "nbconvert_exporter": "python",
   "pygments_lexer": "ipython3",
   "version": "3.9.13"
  }
 },
 "nbformat": 4,
 "nbformat_minor": 5
}
