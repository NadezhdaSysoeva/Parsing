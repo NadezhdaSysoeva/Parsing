{
 "cells": [
  {
   "cell_type": "markdown",
   "id": "fec2418c",
   "metadata": {},
   "source": [
    "### Урок 6. Фреймворк Scrapy, pipelines, Splash"
   ]
  },
  {
   "cell_type": "markdown",
   "id": "dcfb045d",
   "metadata": {},
   "source": [
    "### 2) Создать пауков по сбору данных о книгах с сайтов labirint.ru и/или book24.ru\n",
    "2) Каждый паук должен собирать:\n",
    "* Ссылку на книгу\n",
    "* Наименование книги\n",
    "* Автор(ы)\n",
    "* Основную цену\n",
    "* Цену со скидкой\n",
    "* Рейтинг книги\n",
    "3) Собранная информация должна складываться в базу данных"
   ]
  },
  {
   "cell_type": "code",
   "execution_count": null,
   "id": "8b0b7465",
   "metadata": {},
   "outputs": [],
   "source": [
    "import scrapy\n",
    "from scrapy.http import HtmlResponse\n",
    "from bookparser.items import BookparserBook24Item\n"
   ]
  },
  {
   "cell_type": "code",
   "execution_count": null,
   "id": "9a3b5e90",
   "metadata": {},
   "outputs": [],
   "source": [
    "class Book24Spider(scrapy.Spider):\n",
    "    name = 'book24'\n",
    "    custom_settings = {\n",
    "        'ITEM_PIPELINES': {'bookparser.pipelines.BookParserBook24Pipeline': 300},\n",
    "        'DOWNLOAD_DELAY': 0\n",
    "    }\n",
    "    url = 'https://book24.ru'\n",
    "    allowed_domains = ['book24.ru']\n",
    "    start_urls = ['https://book24.ru/novie-knigi/']\n",
    "\n",
    "    def parse(self, response):\n",
    "        links = response.xpath('//a[@class=\"book-preview__image-link\"]/@href').extract()\n",
    "        for link in links:\n",
    "            yield response.follow(self.url + link, callback=self.parse_item)\n",
    "        next_page = response.xpath('//a[contains(text(), \"Далее\")]/@href').extract_first()\n",
    "\n",
    "        if next_page:\n",
    "            yield response.follow(self.url + next_page, callback=self.parse)\n",
    "\n",
    "\n",
    "    def parse_item(self, response:HtmlResponse):\n",
    "        \"\"\"Book item parser.\"\"\"\n",
    "        title = response.xpath('//h1/text()').extract_first()\n",
    "        link = response.url\n",
    "        author = response.xpath('//a[contains(@itemprop, \"author\")]/text()').extract_first()\n",
    "        own_price = response.xpath('//div[@class=\"item-actions__price-old\"]/text()').extract_first()\n",
    "        if not own_price:\n",
    "            own_price = response.xpath('//div[@class=\"item-actions__price\"]/b/text()').extract_first()\n",
    "            sale_price = None\n",
    "        else:\n",
    "            sale_price = response.xpath('//div[@class=\"item-actions__price\"]/b/text()').extract_first()\n",
    "        rating = response.xpath('//div[contains(@class, \"rating__rate-value\")]/text()').extract_first()\n",
    "\n",
    "        yield BookparserBook24Item(title=title, link=link, author=author, own_price=own_price, sale_price=sale_price,\n",
    "                                   rating=rating)"
   ]
  },
  {
   "cell_type": "code",
   "execution_count": null,
   "id": "941b8e5c",
   "metadata": {},
   "outputs": [],
   "source": []
  }
 ],
 "metadata": {
  "kernelspec": {
   "display_name": "Python 3 (ipykernel)",
   "language": "python",
   "name": "python3"
  },
  "language_info": {
   "codemirror_mode": {
    "name": "ipython",
    "version": 3
   },
   "file_extension": ".py",
   "mimetype": "text/x-python",
   "name": "python",
   "nbconvert_exporter": "python",
   "pygments_lexer": "ipython3",
   "version": "3.9.13"
  }
 },
 "nbformat": 4,
 "nbformat_minor": 5
}
